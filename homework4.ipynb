{
 "cells": [
  {
   "cell_type": "code",
   "execution_count": 3,
   "id": "4f6bb0b7-9f4b-4831-b429-c88331af063c",
   "metadata": {},
   "outputs": [],
   "source": [
    "import pandas as pd\n",
    "import numpy as np"
   ]
  },
  {
   "cell_type": "code",
   "execution_count": 4,
   "id": "1b966b45-0efe-4dab-a1b3-366edfbfc56a",
   "metadata": {},
   "outputs": [],
   "source": [
    "data='https://raw.githubusercontent.com/alexeygrigorev/datasets/master/course_lead_scoring.csv'"
   ]
  },
  {
   "cell_type": "code",
   "execution_count": 5,
   "id": "bbc947f3-dcea-46c4-9a64-d3b52098fdbf",
   "metadata": {},
   "outputs": [
    {
     "name": "stdout",
     "output_type": "stream",
     "text": [
      "--2025-10-21 01:38:41--  https://raw.githubusercontent.com/alexeygrigorev/datasets/master/course_lead_scoring.csv\n",
      "Resolving raw.githubusercontent.com (raw.githubusercontent.com)... 185.199.111.133, 185.199.108.133, 185.199.109.133, ...\n",
      "Connecting to raw.githubusercontent.com (raw.githubusercontent.com)|185.199.111.133|:443... connected.\n",
      "HTTP request sent, awaiting response... 200 OK\n",
      "Length: 80876 (79K) [text/plain]\n",
      "Saving to: ‘course_lead_scoring.csv.1’\n",
      "\n",
      "course_lead_scoring 100%[===================>]  78.98K  --.-KB/s    in 0.06s   \n",
      "\n",
      "2025-10-21 01:38:42 (1.26 MB/s) - ‘course_lead_scoring.csv.1’ saved [80876/80876]\n",
      "\n"
     ]
    }
   ],
   "source": [
    "!wget $data"
   ]
  },
  {
   "cell_type": "code",
   "execution_count": 7,
   "id": "fe26c592-c755-4a63-aa74-f856c6f39653",
   "metadata": {},
   "outputs": [],
   "source": [
    "df=pd.read_csv('course_lead_scoring.csv.1')"
   ]
  },
  {
   "cell_type": "code",
   "execution_count": 8,
   "id": "7f4d523a-ffeb-4f45-b511-9fe23ade7b83",
   "metadata": {},
   "outputs": [
    {
     "data": {
      "text/html": [
       "<div>\n",
       "<style scoped>\n",
       "    .dataframe tbody tr th:only-of-type {\n",
       "        vertical-align: middle;\n",
       "    }\n",
       "\n",
       "    .dataframe tbody tr th {\n",
       "        vertical-align: top;\n",
       "    }\n",
       "\n",
       "    .dataframe thead th {\n",
       "        text-align: right;\n",
       "    }\n",
       "</style>\n",
       "<table border=\"1\" class=\"dataframe\">\n",
       "  <thead>\n",
       "    <tr style=\"text-align: right;\">\n",
       "      <th></th>\n",
       "      <th>lead_source</th>\n",
       "      <th>industry</th>\n",
       "      <th>number_of_courses_viewed</th>\n",
       "      <th>annual_income</th>\n",
       "      <th>employment_status</th>\n",
       "      <th>location</th>\n",
       "      <th>interaction_count</th>\n",
       "      <th>lead_score</th>\n",
       "      <th>converted</th>\n",
       "    </tr>\n",
       "  </thead>\n",
       "  <tbody>\n",
       "    <tr>\n",
       "      <th>0</th>\n",
       "      <td>paid_ads</td>\n",
       "      <td>NaN</td>\n",
       "      <td>1</td>\n",
       "      <td>79450.0</td>\n",
       "      <td>unemployed</td>\n",
       "      <td>south_america</td>\n",
       "      <td>4</td>\n",
       "      <td>0.94</td>\n",
       "      <td>1</td>\n",
       "    </tr>\n",
       "    <tr>\n",
       "      <th>1</th>\n",
       "      <td>social_media</td>\n",
       "      <td>retail</td>\n",
       "      <td>1</td>\n",
       "      <td>46992.0</td>\n",
       "      <td>employed</td>\n",
       "      <td>south_america</td>\n",
       "      <td>1</td>\n",
       "      <td>0.80</td>\n",
       "      <td>0</td>\n",
       "    </tr>\n",
       "    <tr>\n",
       "      <th>2</th>\n",
       "      <td>events</td>\n",
       "      <td>healthcare</td>\n",
       "      <td>5</td>\n",
       "      <td>78796.0</td>\n",
       "      <td>unemployed</td>\n",
       "      <td>australia</td>\n",
       "      <td>3</td>\n",
       "      <td>0.69</td>\n",
       "      <td>1</td>\n",
       "    </tr>\n",
       "    <tr>\n",
       "      <th>3</th>\n",
       "      <td>paid_ads</td>\n",
       "      <td>retail</td>\n",
       "      <td>2</td>\n",
       "      <td>83843.0</td>\n",
       "      <td>NaN</td>\n",
       "      <td>australia</td>\n",
       "      <td>1</td>\n",
       "      <td>0.87</td>\n",
       "      <td>0</td>\n",
       "    </tr>\n",
       "    <tr>\n",
       "      <th>4</th>\n",
       "      <td>referral</td>\n",
       "      <td>education</td>\n",
       "      <td>3</td>\n",
       "      <td>85012.0</td>\n",
       "      <td>self_employed</td>\n",
       "      <td>europe</td>\n",
       "      <td>3</td>\n",
       "      <td>0.62</td>\n",
       "      <td>1</td>\n",
       "    </tr>\n",
       "  </tbody>\n",
       "</table>\n",
       "</div>"
      ],
      "text/plain": [
       "    lead_source    industry  number_of_courses_viewed  annual_income  \\\n",
       "0      paid_ads         NaN                         1        79450.0   \n",
       "1  social_media      retail                         1        46992.0   \n",
       "2        events  healthcare                         5        78796.0   \n",
       "3      paid_ads      retail                         2        83843.0   \n",
       "4      referral   education                         3        85012.0   \n",
       "\n",
       "  employment_status       location  interaction_count  lead_score  converted  \n",
       "0        unemployed  south_america                  4        0.94          1  \n",
       "1          employed  south_america                  1        0.80          0  \n",
       "2        unemployed      australia                  3        0.69          1  \n",
       "3               NaN      australia                  1        0.87          0  \n",
       "4     self_employed         europe                  3        0.62          1  "
      ]
     },
     "execution_count": 8,
     "metadata": {},
     "output_type": "execute_result"
    }
   ],
   "source": [
    "df.head(5)"
   ]
  },
  {
   "cell_type": "code",
   "execution_count": 9,
   "id": "d92a12d7-9ed6-48f8-847f-0f7fd8c77216",
   "metadata": {},
   "outputs": [
    {
     "data": {
      "text/plain": [
       "lead_source                  object\n",
       "industry                     object\n",
       "number_of_courses_viewed      int64\n",
       "annual_income               float64\n",
       "employment_status            object\n",
       "location                     object\n",
       "interaction_count             int64\n",
       "lead_score                  float64\n",
       "converted                     int64\n",
       "dtype: object"
      ]
     },
     "execution_count": 9,
     "metadata": {},
     "output_type": "execute_result"
    }
   ],
   "source": [
    "df.dtypes"
   ]
  },
  {
   "cell_type": "code",
   "execution_count": 10,
   "id": "d57cd1f3-000f-4a22-93c5-33714b312150",
   "metadata": {},
   "outputs": [
    {
     "data": {
      "text/plain": [
       "lead_source                 128\n",
       "industry                    134\n",
       "number_of_courses_viewed      0\n",
       "annual_income               181\n",
       "employment_status           100\n",
       "location                     63\n",
       "interaction_count             0\n",
       "lead_score                    0\n",
       "converted                     0\n",
       "dtype: int64"
      ]
     },
     "execution_count": 10,
     "metadata": {},
     "output_type": "execute_result"
    }
   ],
   "source": [
    "#no of null values in each column\n",
    "df.isnull().sum()"
   ]
  },
  {
   "cell_type": "code",
   "execution_count": 11,
   "id": "aa97c860-6f36-4d32-8360-3ef7fce500cd",
   "metadata": {},
   "outputs": [
    {
     "data": {
      "text/plain": [
       "converted\n",
       "1    905\n",
       "0    557\n",
       "Name: count, dtype: int64"
      ]
     },
     "execution_count": 11,
     "metadata": {},
     "output_type": "execute_result"
    }
   ],
   "source": [
    "#target variable is converted\n",
    "df.converted.value_counts()"
   ]
  },
  {
   "cell_type": "code",
   "execution_count": 13,
   "id": "e1e34a84-8e2a-40bd-836d-822157a027ce",
   "metadata": {},
   "outputs": [],
   "source": [
    "# Identify categorical and numerical columns\n",
    "cat_cols = df.select_dtypes(include=['object']).columns\n",
    "num_cols = df.select_dtypes(include=['int64', 'float64']).columns\n",
    "\n",
    "# Fill missing values\n",
    "df[cat_cols] = df[cat_cols].fillna('NA')\n",
    "df[num_cols] = df[num_cols].fillna(0.0)\n"
   ]
  },
  {
   "cell_type": "code",
   "execution_count": 41,
   "id": "e7fdc1b0-8677-4fdd-9352-e3573b4f928f",
   "metadata": {},
   "outputs": [
    {
     "data": {
      "text/plain": [
       "Index(['number_of_courses_viewed', 'annual_income', 'interaction_count',\n",
       "       'lead_score', 'converted'],\n",
       "      dtype='object')"
      ]
     },
     "execution_count": 41,
     "metadata": {},
     "output_type": "execute_result"
    }
   ],
   "source": [
    "num_cols"
   ]
  },
  {
   "cell_type": "code",
   "execution_count": 14,
   "id": "df9dd06b-73b7-44b2-ade6-7c7f13cbdc7a",
   "metadata": {},
   "outputs": [],
   "source": [
    "X = df.drop('converted', axis=1)   # Features\n",
    "y = df['converted']                # Target: \"1\"/\"0\" (client converted or not)"
   ]
  },
  {
   "cell_type": "code",
   "execution_count": 15,
   "id": "3bc4ff4d-67d6-4240-9e7d-8a40d06bdd66",
   "metadata": {},
   "outputs": [
    {
     "name": "stdout",
     "output_type": "stream",
     "text": [
      "Train size: 877\n",
      "Validation size: 292\n",
      "Test size: 293\n"
     ]
    }
   ],
   "source": [
    "from sklearn.model_selection import train_test_split\n",
    "\n",
    "# First, split into 60% train and 40% temp\n",
    "X_train, X_temp, y_train, y_temp = train_test_split(X, y, test_size=0.4, random_state=1, stratify=y)\n",
    "\n",
    "# Then split the temp (40%) into 20% validation and 20% test\n",
    "X_val, X_test, y_val, y_test = train_test_split(X_temp, y_temp, test_size=0.5, random_state=1, stratify=y_temp)\n",
    "\n",
    "# Verify proportions\n",
    "print(f\"Train size: {len(X_train)}\")\n",
    "print(f\"Validation size: {len(X_val)}\")\n",
    "print(f\"Test size: {len(X_test)}\")\n"
   ]
  },
  {
   "cell_type": "code",
   "execution_count": 16,
   "id": "d293bb16-8402-4545-9652-78fdbe45cb5e",
   "metadata": {},
   "outputs": [
    {
     "name": "stdout",
     "output_type": "stream",
     "text": [
      "lead_score: AUC = 0.6107 (normal)\n",
      "number_of_courses_viewed: AUC = 0.7648 (normal)\n",
      "interaction_count: AUC = 0.7227 (normal)\n",
      "annual_income: AUC = 0.5545 (normal)\n"
     ]
    }
   ],
   "source": [
    "from sklearn.metrics import roc_auc_score\n",
    "\n",
    "# List of numerical variables\n",
    "num_vars = ['lead_score', 'number_of_courses_viewed', 'interaction_count', 'annual_income']\n",
    "\n",
    "auc_results = {}\n",
    "\n",
    "for col in num_vars:\n",
    "    auc = roc_auc_score(y_train, X_train[col])\n",
    "    \n",
    "    # If AUC < 0.5, invert the variable\n",
    "    if auc < 0.5:\n",
    "        auc = roc_auc_score(y_train, -X_train[col])\n",
    "        direction = 'inverted'\n",
    "    else:\n",
    "        direction = 'normal'\n",
    "    \n",
    "    auc_results[col] = (auc, direction)\n",
    "\n",
    "# Display results\n",
    "for col, (auc, direction) in auc_results.items():\n",
    "    print(f\"{col}: AUC = {auc:.4f} ({direction})\")\n"
   ]
  },
  {
   "cell_type": "code",
   "execution_count": 17,
   "id": "fd103eaa-7b6b-4057-bed5-216037897754",
   "metadata": {},
   "outputs": [
    {
     "name": "stdout",
     "output_type": "stream",
     "text": [
      "Feature with highest AUC:\n",
      "number_of_courses_viewed: AUC = 0.7648 (normal)\n"
     ]
    }
   ],
   "source": [
    "#1Which numerical variable (among the following 4) has the highest AUC?\n",
    "\n",
    "#lead_score\n",
    "#number_of_courses_viewed\n",
    "#interaction_count\n",
    "#annual_income\n",
    "\n",
    "best_var = max(auc_results, key=lambda k: auc_results[k][0])\n",
    "best_auc, best_dir = auc_results[best_var]\n",
    "\n",
    "print(\"Feature with highest AUC:\")\n",
    "print(f\"{best_var}: AUC = {best_auc:.4f} ({best_dir})\")"
   ]
  },
  {
   "cell_type": "code",
   "execution_count": 44,
   "id": "815af06f-0408-43b7-815a-c3044f1e3da2",
   "metadata": {},
   "outputs": [
    {
     "name": "stdout",
     "output_type": "stream",
     "text": [
      "Validation AUC: 0.866\n"
     ]
    }
   ],
   "source": [
    "\n",
    "\n",
    "from sklearn.feature_extraction import DictVectorizer\n",
    "from sklearn.linear_model import LogisticRegression\n",
    "from sklearn.metrics import roc_auc_score\n",
    "\n",
    "# Convert train/validation dataframes to list of dictionaries\n",
    "train_dicts = X_train.to_dict(orient='records')\n",
    "val_dicts = X_val.to_dict(orient='records')\n",
    "\n",
    "# Initialize and apply one-hot encoding\n",
    "dv = DictVectorizer(sparse=False)\n",
    "X_train_encoded = dv.fit_transform(train_dicts)\n",
    "X_val_encoded = dv.transform(val_dicts)\n",
    "\n",
    "# Train logistic regression model\n",
    "model = LogisticRegression(solver='liblinear', C=1.0, max_iter=1000)\n",
    "model.fit(X_train_encoded, y_train)\n",
    "\n",
    "# Predict probabilities on validation set\n",
    "y_pred_val = model.predict_proba(X_val_encoded)[:, 1]\n",
    "\n",
    "# Compute AUC\n",
    "auc_val = roc_auc_score(y_val, y_pred_val)\n",
    "print(f\"Validation AUC: {auc_val:.3f}\")\n"
   ]
  },
  {
   "cell_type": "code",
   "execution_count": 52,
   "id": "8f5f2795-1b51-46af-a943-f37e3c6c0da0",
   "metadata": {},
   "outputs": [
    {
     "data": {
      "text/plain": [
       "0.92"
      ]
     },
     "execution_count": 52,
     "metadata": {},
     "output_type": "execute_result"
    }
   ],
   "source": [
    "#What's the AUC of this model on the validation dataset? (round to 3 digits)\n",
    "\n",
    "#0.32\n",
    "#0.52\n",
    "#0.72\n",
    "#0.92\n",
    "\n",
    "0.92"
   ]
  },
  {
   "cell_type": "code",
   "execution_count": null,
   "id": "543a433a-142e-41ef-8be3-80e4b38d6ed5",
   "metadata": {},
   "outputs": [],
   "source": []
  },
  {
   "cell_type": "code",
   "execution_count": 45,
   "id": "e88482ae-dc01-434e-b37a-b59038d8acce",
   "metadata": {},
   "outputs": [
    {
     "data": {
      "image/png": "[encoded data removed]",
      "text/plain": [
       "<Figure size 640x480 with 1 Axes>"
      ]
     },
     "metadata": {},
     "output_type": "display_data"
    },
    {
     "name": "stdout",
     "output_type": "stream",
     "text": [
      "Precision and Recall intersect around threshold = 0.616\n"
     ]
    }
   ],
   "source": [
    "import numpy as np\n",
    "import matplotlib.pyplot as plt\n",
    "from sklearn.metrics import precision_score, recall_score\n",
    "\n",
    "# Use predicted probabilities from your logistic regression model\n",
    "y_scores = model.predict_proba(X_val_encoded)[:, 1]\n",
    "\n",
    "thresholds = np.arange(0.0, 1.01, 0.01)\n",
    "precision_list = []\n",
    "recall_list = []\n",
    "\n",
    "# Compute precision and recall for each threshold\n",
    "for t in thresholds:\n",
    "    y_pred = (y_scores >= t).astype(int)\n",
    "    # safe precision/recall; if no predicted positives, precision=0 by sklearn default\n",
    "    precision_list.append(precision_score(y_val, y_pred, zero_division=0))\n",
    "    recall_list.append(recall_score(y_val, y_pred))\n",
    "\n",
    "# Plot precision vs recall curves\n",
    "plt.figure()\n",
    "plt.plot(thresholds, precision_list, label='Precision')\n",
    "plt.plot(thresholds, recall_list, label='Recall')\n",
    "plt.xlabel('Threshold')\n",
    "plt.ylabel('Score')\n",
    "plt.legend()\n",
    "plt.grid(True)\n",
    "plt.show()\n",
    "\n",
    "# ---- Find intersection(s) and pick the middle one ----\n",
    "p = np.array(precision_list, dtype=float)\n",
    "r = np.array(recall_list, dtype=float)\n",
    "d = p - r  # sign change => crossing\n",
    "\n",
    "# Indices where sign changes between consecutive thresholds\n",
    "sign = np.sign(d)\n",
    "cross_idx = np.where(sign[:-1] * sign[1:] <= 0)[0]  # includes exact zeros\n",
    "\n",
    "crossings = []\n",
    "for i in cross_idx:\n",
    "    # Linear interpolate to approximate where d crosses 0 between thresholds[i] and thresholds[i+1]\n",
    "    d0, d1 = d[i], d[i+1]\n",
    "    t0, t1 = thresholds[i], thresholds[i+1]\n",
    "    if d1 != d0:\n",
    "        t_cross = t0 + (0 - d0) * (t1 - t0) / (d1 - d0)\n",
    "    else:\n",
    "        # rare: both equal; take midpoint\n",
    "        t_cross = 0.5 * (t0 + t1)\n",
    "    crossings.append(t_cross)\n",
    "\n",
    "if len(crossings) == 0:\n",
    "    # Fallback: choose threshold where |precision - recall| is minimized,\n",
    "    # but prefer the middle region to avoid tails.\n",
    "    mid_mask = (thresholds >= 0.2) & (thresholds <= 0.8)\n",
    "    diffs = np.abs(d)\n",
    "    if mid_mask.any():\n",
    "        best_idx = np.argmin(diffs[mid_mask])\n",
    "        best_threshold = thresholds[mid_mask][best_idx]\n",
    "    else:\n",
    "        best_threshold = thresholds[np.argmin(diffs)]\n",
    "else:\n",
    "    # Pick the crossing closest to 0.5 (the “middle” one)\n",
    "    crossings = np.array(crossings)\n",
    "    best_threshold = crossings[np.argmin(np.abs(crossings - 0.5))]\n",
    "\n",
    "print(f\"Precision and Recall intersect around threshold = {best_threshold:.3f}\")\n"
   ]
  },
  {
   "cell_type": "code",
   "execution_count": 54,
   "id": "a0b12973-6a2d-456e-8dd9-62070ae3fa7b",
   "metadata": {},
   "outputs": [
    {
     "data": {
      "text/plain": [
       "0.545"
      ]
     },
     "execution_count": 54,
     "metadata": {},
     "output_type": "execute_result"
    }
   ],
   "source": [
    "#At which threshold precision and recall curves intersect?\n",
    "\n",
    "#0.145\n",
    "#0.345\n",
    "#0.545\n",
    "#0.745\n",
    "\n",
    "0.545"
   ]
  },
  {
   "cell_type": "code",
   "execution_count": null,
   "id": "40e9706b-e75c-4375-9656-d1df75662fd5",
   "metadata": {},
   "outputs": [],
   "source": []
  },
  {
   "cell_type": "code",
   "execution_count": 46,
   "id": "26808fb7-39a1-45ed-9702-0b50d14b14a4",
   "metadata": {},
   "outputs": [
    {
     "name": "stdout",
     "output_type": "stream",
     "text": [
      "Best F1 = 0.876 at threshold = 0.580\n"
     ]
    }
   ],
   "source": [
    "import numpy as np\n",
    "from sklearn.metrics import precision_score, recall_score\n",
    "\n",
    "# Reuse predicted probabilities\n",
    "y_scores = model.predict_proba(X_val_encoded)[:, 1]\n",
    "\n",
    "thresholds = np.arange(0.0, 1.01, 0.01)\n",
    "f1_list = []\n",
    "\n",
    "for t in thresholds:\n",
    "    y_pred = (y_scores >= t).astype(int)\n",
    "    P = precision_score(y_val, y_pred, zero_division=0)\n",
    "    R = recall_score(y_val, y_pred)\n",
    "    if (P + R) == 0:\n",
    "        f1 = 0\n",
    "    else:\n",
    "        f1 = 2 * P * R / (P + R)\n",
    "    f1_list.append(f1)\n",
    "\n",
    "# Find best threshold\n",
    "best_idx = np.argmax(f1_list)\n",
    "best_threshold = thresholds[best_idx]\n",
    "best_f1 = f1_list[best_idx]\n",
    "\n",
    "print(f\"Best F1 = {best_f1:.3f} at threshold = {best_threshold:.3f}\")\n"
   ]
  },
  {
   "cell_type": "code",
   "execution_count": 55,
   "id": "62a7e586-7a17-4267-a044-aacd4a03ed98",
   "metadata": {},
   "outputs": [
    {
     "data": {
      "text/plain": [
       "0.54"
      ]
     },
     "execution_count": 55,
     "metadata": {},
     "output_type": "execute_result"
    }
   ],
   "source": [
    "#Let's compute F1 for all thresholds from 0.0 to 1.0 with increment 0.01\n",
    "\n",
    "#At which threshold F1 is maximal?\n",
    "\n",
    "#0.14\n",
    "#0.34\n",
    "#0.54\n",
    "#0.74\n",
    "\n",
    "0.54"
   ]
  },
  {
   "cell_type": "code",
   "execution_count": 49,
   "id": "65f48dcd-2180-40f2-8403-d3cec247bc0d",
   "metadata": {},
   "outputs": [
    {
     "name": "stdout",
     "output_type": "stream",
     "text": [
      "AUCs per fold: [0.8172202350536536, 0.7792846497764531, 0.8309278350515464, 0.8675988428158148, 0.8093413173652695]\n",
      "Mean AUC: 0.8208745760125474\n",
      "Std of AUC: 0.028845510405609943\n"
     ]
    }
   ],
   "source": [
    "import numpy as np\n",
    "import pandas as pd\n",
    "from sklearn.model_selection import KFold\n",
    "from sklearn.feature_extraction import DictVectorizer\n",
    "from sklearn.linear_model import LogisticRegression\n",
    "from sklearn.metrics import roc_auc_score\n",
    "\n",
    "# df_full_train is your full training frame (features + target)\n",
    "df_full_train = df.copy()\n",
    "# target column name:\n",
    "import numpy as np\n",
    "from sklearn.model_selection import KFold\n",
    "from sklearn.feature_extraction import DictVectorizer\n",
    "from sklearn.linear_model import LogisticRegression\n",
    "from sklearn.metrics import roc_auc_score\n",
    "\n",
    "target = 'converted'\n",
    "y = df_full_train[target].astype(int).values\n",
    "X = df_full_train.drop(columns=[target])\n",
    "\n",
    "kf = KFold(n_splits=5, shuffle=True, random_state=1)\n",
    "aucs = []\n",
    "\n",
    "for train_idx, val_idx in kf.split(X):\n",
    "    X_train, X_val = X.iloc[train_idx], X.iloc[val_idx]\n",
    "    y_train, y_val = y[train_idx], y[val_idx]\n",
    "\n",
    "    dv = DictVectorizer(sparse=False)\n",
    "    X_train_enc = dv.fit_transform(X_train.to_dict(orient='records'))\n",
    "    X_val_enc = dv.transform(X_val.to_dict(orient='records'))\n",
    "\n",
    "    model = LogisticRegression(solver='liblinear', C=1.0, max_iter=1000)\n",
    "    model.fit(X_train_enc, y_train)\n",
    "\n",
    "    y_pred = model.predict_proba(X_val_enc)[:, 1]\n",
    "    auc = roc_auc_score(y_val, y_pred)\n",
    "    aucs.append(auc)\n",
    "\n",
    "print('AUCs per fold:', aucs)\n",
    "print('Mean AUC:', np.mean(aucs))\n",
    "print('Std of AUC:', np.std(aucs))\n"
   ]
  },
  {
   "cell_type": "code",
   "execution_count": 57,
   "id": "0eb0c17b-2cd2-4f8a-8f1e-8e32e14cdbd6",
   "metadata": {},
   "outputs": [
    {
     "data": {
      "text/plain": [
       "0.06"
      ]
     },
     "execution_count": 57,
     "metadata": {},
     "output_type": "execute_result"
    }
   ],
   "source": [
    "#How large is standard deviation of the scores across different folds?\n",
    "\n",
    "#0.0001\n",
    "#0.006\n",
    "#0.06\n",
    "#0.36\n",
    "\n",
    "0.06"
   ]
  },
  {
   "cell_type": "code",
   "execution_count": 50,
   "id": "47a5c6bc-2949-40b9-8457-dcd9a4c8f78b",
   "metadata": {},
   "outputs": [
    {
     "name": "stdout",
     "output_type": "stream",
     "text": [
      "C=1e-06      Mean AUC=0.549  Std=0.030\n",
      "C=0.001      Mean AUC=0.862  Std=0.024\n",
      "C=1          Mean AUC=0.821  Std=0.029\n"
     ]
    }
   ],
   "source": [
    "import numpy as np\n",
    "from sklearn.model_selection import KFold\n",
    "from sklearn.feature_extraction import DictVectorizer\n",
    "from sklearn.linear_model import LogisticRegression\n",
    "from sklearn.metrics import roc_auc_score\n",
    "\n",
    "# features & target\n",
    "target = 'converted'\n",
    "y = df_full_train[target].astype(int).values\n",
    "X = df_full_train.drop(columns=[target])\n",
    "\n",
    "# 5-fold CV setup\n",
    "kf = KFold(n_splits=5, shuffle=True, random_state=1)\n",
    "\n",
    "# C values to test\n",
    "C_values = [0.000001, 0.001, 1]\n",
    "\n",
    "for C in C_values:\n",
    "    aucs = []\n",
    "\n",
    "    for train_idx, val_idx in kf.split(X):\n",
    "        X_train, X_val = X.iloc[train_idx], X.iloc[val_idx]\n",
    "        y_train, y_val = y[train_idx], y[val_idx]\n",
    "\n",
    "        dv = DictVectorizer(sparse=False)\n",
    "        X_train_enc = dv.fit_transform(X_train.to_dict(orient='records'))\n",
    "        X_val_enc = dv.transform(X_val.to_dict(orient='records'))\n",
    "\n",
    "        model = LogisticRegression(solver='liblinear', C=C, max_iter=1000)\n",
    "        model.fit(X_train_enc, y_train)\n",
    "\n",
    "        y_pred = model.predict_proba(X_val_enc)[:, 1]\n",
    "        auc = roc_auc_score(y_val, y_pred)\n",
    "        aucs.append(auc)\n",
    "\n",
    "    mean_auc = np.mean(aucs)\n",
    "    std_auc = np.std(aucs)\n",
    "    print(f\"C={C:<10} Mean AUC={mean_auc:.3f}  Std={std_auc:.3f}\")\n"
   ]
  },
  {
   "cell_type": "code",
   "execution_count": 58,
   "id": "b4b80590-7309-49c0-900a-2811725332c7",
   "metadata": {},
   "outputs": [
    {
     "data": {
      "text/plain": [
       "1"
      ]
     },
     "execution_count": 58,
     "metadata": {},
     "output_type": "execute_result"
    }
   ],
   "source": [
    "#Which C leads to the best mean score?\n",
    "\n",
    "#0.000001\n",
    "#0.001\n",
    "#1\n",
    "\n",
    "1"
   ]
  }
 ],
 "metadata": {
  "kernelspec": {
   "display_name": "Python 3 (ipykernel)",
   "language": "python",
   "name": "python3"
  },
  "language_info": {
   "codemirror_mode": {
    "name": "ipython",
    "version": 3
   },
   "file_extension": ".py",
   "mimetype": "text/x-python",
   "name": "python",
   "nbconvert_exporter": "python",
   "pygments_lexer": "ipython3",
   "version": "3.12.1"
  }
 },
 "nbformat": 4,
 "nbformat_minor": 5
}
