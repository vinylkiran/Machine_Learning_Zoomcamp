{
 "cells": [
  {
   "cell_type": "code",
   "execution_count": 2,
   "id": "faefc0e5-d93f-4d2b-b5fc-7906c2655766",
   "metadata": {},
   "outputs": [],
   "source": [
    "import pandas as pd\n",
    "import numpy as np"
   ]
  },
  {
   "cell_type": "code",
   "execution_count": 3,
   "id": "005c1aba-8bc6-4a66-ab90-bff34dd43a90",
   "metadata": {},
   "outputs": [],
   "source": [
    "data='https://raw.githubusercontent.com/alexeygrigorev/datasets/master/car_fuel_efficiency.csv'"
   ]
  },
  {
   "cell_type": "code",
   "execution_count": 4,
   "id": "299edc3d-554f-47e5-8810-307f4c7447bf",
   "metadata": {},
   "outputs": [
    {
     "name": "stdout",
     "output_type": "stream",
     "text": [
      "--2025-10-08 13:33:07--  https://raw.githubusercontent.com/alexeygrigorev/datasets/master/car_fuel_efficiency.csv\n",
      "Resolving raw.githubusercontent.com (raw.githubusercontent.com)... 185.199.108.133, 185.199.109.133, 185.199.110.133, ...\n",
      "Connecting to raw.githubusercontent.com (raw.githubusercontent.com)|185.199.108.133|:443... connected.\n",
      "HTTP request sent, awaiting response... 200 OK\n",
      "Length: 874188 (854K) [text/plain]\n",
      "Saving to: ‘car_fuel_efficiency.csv.2’\n",
      "\n",
      "car_fuel_efficiency 100%[===================>] 853.70K  --.-KB/s    in 0.03s   \n",
      "\n",
      "2025-10-08 13:33:07 (24.5 MB/s) - ‘car_fuel_efficiency.csv.2’ saved [874188/874188]\n",
      "\n"
     ]
    }
   ],
   "source": [
    "!wget $data"
   ]
  },
  {
   "cell_type": "code",
   "execution_count": 5,
   "id": "8945cc0b-e472-49bc-9e68-35a589441e75",
   "metadata": {},
   "outputs": [],
   "source": [
    "df=pd.read_csv('car_fuel_efficiency.csv')"
   ]
  },
  {
   "cell_type": "code",
   "execution_count": 6,
   "id": "491c0ba6-d629-498f-b29b-bf1e744dc257",
   "metadata": {},
   "outputs": [
    {
     "data": {
      "text/html": [
       "<div>\n",
       "<style scoped>\n",
       "    .dataframe tbody tr th:only-of-type {\n",
       "        vertical-align: middle;\n",
       "    }\n",
       "\n",
       "    .dataframe tbody tr th {\n",
       "        vertical-align: top;\n",
       "    }\n",
       "\n",
       "    .dataframe thead th {\n",
       "        text-align: right;\n",
       "    }\n",
       "</style>\n",
       "<table border=\"1\" class=\"dataframe\">\n",
       "  <thead>\n",
       "    <tr style=\"text-align: right;\">\n",
       "      <th></th>\n",
       "      <th>engine_displacement</th>\n",
       "      <th>num_cylinders</th>\n",
       "      <th>horsepower</th>\n",
       "      <th>vehicle_weight</th>\n",
       "      <th>acceleration</th>\n",
       "      <th>model_year</th>\n",
       "      <th>origin</th>\n",
       "      <th>fuel_type</th>\n",
       "      <th>drivetrain</th>\n",
       "      <th>num_doors</th>\n",
       "      <th>fuel_efficiency_mpg</th>\n",
       "    </tr>\n",
       "  </thead>\n",
       "  <tbody>\n",
       "    <tr>\n",
       "      <th>0</th>\n",
       "      <td>170</td>\n",
       "      <td>3.0</td>\n",
       "      <td>159.0</td>\n",
       "      <td>3413.433759</td>\n",
       "      <td>17.7</td>\n",
       "      <td>2003</td>\n",
       "      <td>Europe</td>\n",
       "      <td>Gasoline</td>\n",
       "      <td>All-wheel drive</td>\n",
       "      <td>0.0</td>\n",
       "      <td>13.231729</td>\n",
       "    </tr>\n",
       "    <tr>\n",
       "      <th>1</th>\n",
       "      <td>130</td>\n",
       "      <td>5.0</td>\n",
       "      <td>97.0</td>\n",
       "      <td>3149.664934</td>\n",
       "      <td>17.8</td>\n",
       "      <td>2007</td>\n",
       "      <td>USA</td>\n",
       "      <td>Gasoline</td>\n",
       "      <td>Front-wheel drive</td>\n",
       "      <td>0.0</td>\n",
       "      <td>13.688217</td>\n",
       "    </tr>\n",
       "    <tr>\n",
       "      <th>2</th>\n",
       "      <td>170</td>\n",
       "      <td>NaN</td>\n",
       "      <td>78.0</td>\n",
       "      <td>3079.038997</td>\n",
       "      <td>15.1</td>\n",
       "      <td>2018</td>\n",
       "      <td>Europe</td>\n",
       "      <td>Gasoline</td>\n",
       "      <td>Front-wheel drive</td>\n",
       "      <td>0.0</td>\n",
       "      <td>14.246341</td>\n",
       "    </tr>\n",
       "    <tr>\n",
       "      <th>3</th>\n",
       "      <td>220</td>\n",
       "      <td>4.0</td>\n",
       "      <td>NaN</td>\n",
       "      <td>2542.392402</td>\n",
       "      <td>20.2</td>\n",
       "      <td>2009</td>\n",
       "      <td>USA</td>\n",
       "      <td>Diesel</td>\n",
       "      <td>All-wheel drive</td>\n",
       "      <td>2.0</td>\n",
       "      <td>16.912736</td>\n",
       "    </tr>\n",
       "    <tr>\n",
       "      <th>4</th>\n",
       "      <td>210</td>\n",
       "      <td>1.0</td>\n",
       "      <td>140.0</td>\n",
       "      <td>3460.870990</td>\n",
       "      <td>14.4</td>\n",
       "      <td>2009</td>\n",
       "      <td>Europe</td>\n",
       "      <td>Gasoline</td>\n",
       "      <td>All-wheel drive</td>\n",
       "      <td>2.0</td>\n",
       "      <td>12.488369</td>\n",
       "    </tr>\n",
       "  </tbody>\n",
       "</table>\n",
       "</div>"
      ],
      "text/plain": [
       "   engine_displacement  num_cylinders  horsepower  vehicle_weight  \\\n",
       "0                  170            3.0       159.0     3413.433759   \n",
       "1                  130            5.0        97.0     3149.664934   \n",
       "2                  170            NaN        78.0     3079.038997   \n",
       "3                  220            4.0         NaN     2542.392402   \n",
       "4                  210            1.0       140.0     3460.870990   \n",
       "\n",
       "   acceleration  model_year  origin fuel_type         drivetrain  num_doors  \\\n",
       "0          17.7        2003  Europe  Gasoline    All-wheel drive        0.0   \n",
       "1          17.8        2007     USA  Gasoline  Front-wheel drive        0.0   \n",
       "2          15.1        2018  Europe  Gasoline  Front-wheel drive        0.0   \n",
       "3          20.2        2009     USA    Diesel    All-wheel drive        2.0   \n",
       "4          14.4        2009  Europe  Gasoline    All-wheel drive        2.0   \n",
       "\n",
       "   fuel_efficiency_mpg  \n",
       "0            13.231729  \n",
       "1            13.688217  \n",
       "2            14.246341  \n",
       "3            16.912736  \n",
       "4            12.488369  "
      ]
     },
     "execution_count": 6,
     "metadata": {},
     "output_type": "execute_result"
    }
   ],
   "source": [
    "df.head(5)"
   ]
  },
  {
   "cell_type": "code",
   "execution_count": 7,
   "id": "fa2343f2-4a98-4c0e-bc6e-f7d23a89fc3f",
   "metadata": {},
   "outputs": [],
   "source": [
    "# Data Preparation"
   ]
  },
  {
   "cell_type": "code",
   "execution_count": 8,
   "id": "09ef84a1-9489-4998-95e6-0fcc36fdc713",
   "metadata": {},
   "outputs": [
    {
     "data": {
      "text/plain": [
       "['origin', 'fuel_type', 'drivetrain']"
      ]
     },
     "execution_count": 8,
     "metadata": {},
     "output_type": "execute_result"
    }
   ],
   "source": [
    "strings =list(df.dtypes[df.dtypes=='object'].index)\n",
    "strings"
   ]
  },
  {
   "cell_type": "code",
   "execution_count": 9,
   "id": "c7464916-563f-418d-90fc-1aad516a6e0d",
   "metadata": {},
   "outputs": [],
   "source": [
    "for column in strings:\n",
    "    df[column] = df[column].str.lower().str.replace(' ', '_')"
   ]
  },
  {
   "cell_type": "code",
   "execution_count": 10,
   "id": "f261328a-744a-48fe-bcae-c11b54366db2",
   "metadata": {},
   "outputs": [
    {
     "data": {
      "text/html": [
       "<div>\n",
       "<style scoped>\n",
       "    .dataframe tbody tr th:only-of-type {\n",
       "        vertical-align: middle;\n",
       "    }\n",
       "\n",
       "    .dataframe tbody tr th {\n",
       "        vertical-align: top;\n",
       "    }\n",
       "\n",
       "    .dataframe thead th {\n",
       "        text-align: right;\n",
       "    }\n",
       "</style>\n",
       "<table border=\"1\" class=\"dataframe\">\n",
       "  <thead>\n",
       "    <tr style=\"text-align: right;\">\n",
       "      <th></th>\n",
       "      <th>engine_displacement</th>\n",
       "      <th>num_cylinders</th>\n",
       "      <th>horsepower</th>\n",
       "      <th>vehicle_weight</th>\n",
       "      <th>acceleration</th>\n",
       "      <th>model_year</th>\n",
       "      <th>origin</th>\n",
       "      <th>fuel_type</th>\n",
       "      <th>drivetrain</th>\n",
       "      <th>num_doors</th>\n",
       "      <th>fuel_efficiency_mpg</th>\n",
       "    </tr>\n",
       "  </thead>\n",
       "  <tbody>\n",
       "    <tr>\n",
       "      <th>0</th>\n",
       "      <td>170</td>\n",
       "      <td>3.0</td>\n",
       "      <td>159.0</td>\n",
       "      <td>3413.433759</td>\n",
       "      <td>17.7</td>\n",
       "      <td>2003</td>\n",
       "      <td>europe</td>\n",
       "      <td>gasoline</td>\n",
       "      <td>all-wheel_drive</td>\n",
       "      <td>0.0</td>\n",
       "      <td>13.231729</td>\n",
       "    </tr>\n",
       "    <tr>\n",
       "      <th>1</th>\n",
       "      <td>130</td>\n",
       "      <td>5.0</td>\n",
       "      <td>97.0</td>\n",
       "      <td>3149.664934</td>\n",
       "      <td>17.8</td>\n",
       "      <td>2007</td>\n",
       "      <td>usa</td>\n",
       "      <td>gasoline</td>\n",
       "      <td>front-wheel_drive</td>\n",
       "      <td>0.0</td>\n",
       "      <td>13.688217</td>\n",
       "    </tr>\n",
       "    <tr>\n",
       "      <th>2</th>\n",
       "      <td>170</td>\n",
       "      <td>NaN</td>\n",
       "      <td>78.0</td>\n",
       "      <td>3079.038997</td>\n",
       "      <td>15.1</td>\n",
       "      <td>2018</td>\n",
       "      <td>europe</td>\n",
       "      <td>gasoline</td>\n",
       "      <td>front-wheel_drive</td>\n",
       "      <td>0.0</td>\n",
       "      <td>14.246341</td>\n",
       "    </tr>\n",
       "    <tr>\n",
       "      <th>3</th>\n",
       "      <td>220</td>\n",
       "      <td>4.0</td>\n",
       "      <td>NaN</td>\n",
       "      <td>2542.392402</td>\n",
       "      <td>20.2</td>\n",
       "      <td>2009</td>\n",
       "      <td>usa</td>\n",
       "      <td>diesel</td>\n",
       "      <td>all-wheel_drive</td>\n",
       "      <td>2.0</td>\n",
       "      <td>16.912736</td>\n",
       "    </tr>\n",
       "    <tr>\n",
       "      <th>4</th>\n",
       "      <td>210</td>\n",
       "      <td>1.0</td>\n",
       "      <td>140.0</td>\n",
       "      <td>3460.870990</td>\n",
       "      <td>14.4</td>\n",
       "      <td>2009</td>\n",
       "      <td>europe</td>\n",
       "      <td>gasoline</td>\n",
       "      <td>all-wheel_drive</td>\n",
       "      <td>2.0</td>\n",
       "      <td>12.488369</td>\n",
       "    </tr>\n",
       "  </tbody>\n",
       "</table>\n",
       "</div>"
      ],
      "text/plain": [
       "   engine_displacement  num_cylinders  horsepower  vehicle_weight  \\\n",
       "0                  170            3.0       159.0     3413.433759   \n",
       "1                  130            5.0        97.0     3149.664934   \n",
       "2                  170            NaN        78.0     3079.038997   \n",
       "3                  220            4.0         NaN     2542.392402   \n",
       "4                  210            1.0       140.0     3460.870990   \n",
       "\n",
       "   acceleration  model_year  origin fuel_type         drivetrain  num_doors  \\\n",
       "0          17.7        2003  europe  gasoline    all-wheel_drive        0.0   \n",
       "1          17.8        2007     usa  gasoline  front-wheel_drive        0.0   \n",
       "2          15.1        2018  europe  gasoline  front-wheel_drive        0.0   \n",
       "3          20.2        2009     usa    diesel    all-wheel_drive        2.0   \n",
       "4          14.4        2009  europe  gasoline    all-wheel_drive        2.0   \n",
       "\n",
       "   fuel_efficiency_mpg  \n",
       "0            13.231729  \n",
       "1            13.688217  \n",
       "2            14.246341  \n",
       "3            16.912736  \n",
       "4            12.488369  "
      ]
     },
     "execution_count": 10,
     "metadata": {},
     "output_type": "execute_result"
    }
   ],
   "source": [
    "df.head(5)"
   ]
  },
  {
   "cell_type": "code",
   "execution_count": 11,
   "id": "7d539f3f-7da2-4be0-b430-427eb77f8469",
   "metadata": {},
   "outputs": [],
   "source": [
    "# EDA"
   ]
  },
  {
   "cell_type": "code",
   "execution_count": 12,
   "id": "297a92d3-84bc-4715-8384-38e5f42423d1",
   "metadata": {},
   "outputs": [
    {
     "data": {
      "image/png": "[encoded data removed]",
      "text/plain": [
       "<Figure size 800x500 with 1 Axes>"
      ]
     },
     "metadata": {},
     "output_type": "display_data"
    },
    {
     "data": {
      "image/png": "[encoded data removed]",
      "text/plain": [
       "<Figure size 800x300 with 1 Axes>"
      ]
     },
     "metadata": {},
     "output_type": "display_data"
    }
   ],
   "source": [
    "#Distribution of target variable \"fuel_efficiency_mpg\"\n",
    "import matplotlib.pyplot as plt\n",
    "import seaborn as sns\n",
    "\n",
    "# Histogram\n",
    "plt.figure(figsize=(8,5))\n",
    "sns.histplot(df['fuel_efficiency_mpg'], bins=50, kde=True)\n",
    "plt.title(\"Distribution of Fuel Efficiency\")\n",
    "plt.show()\n",
    "\n",
    "# Boxplot\n",
    "plt.figure(figsize=(8,3))\n",
    "sns.boxplot(x=df['fuel_efficiency_mpg'])\n",
    "plt.title(\"Boxplot of Fuel Efficiency\")\n",
    "plt.show()\n"
   ]
  },
  {
   "cell_type": "code",
   "execution_count": 13,
   "id": "f98eccea-dee8-442e-91bd-3792d2b61c54",
   "metadata": {},
   "outputs": [
    {
     "name": "stdout",
     "output_type": "stream",
     "text": [
      "Skewness: -0.012060354670679114\n"
     ]
    }
   ],
   "source": [
    "from scipy.stats import skew\n",
    "\n",
    "skewness = skew(df['fuel_efficiency_mpg'], nan_policy='omit')\n",
    "print(\"Skewness:\", skewness)\n"
   ]
  },
  {
   "cell_type": "code",
   "execution_count": 14,
   "id": "69b24fe8-a8fc-411f-a5fb-bb339c430218",
   "metadata": {},
   "outputs": [
    {
     "data": {
      "text/plain": [
       "'The distribution of the target variable final_price shows a skewness of –0.012, indicating it is approximately symmetric and does not exhibit a long tail. \\nTherefore, no transformation was applied'"
      ]
     },
     "execution_count": 14,
     "metadata": {},
     "output_type": "execute_result"
    }
   ],
   "source": [
    "'''The distribution of the target variable final_price shows a skewness of –0.012, indicating it is approximately symmetric and does not exhibit a long tail. \n",
    "Therefore, no transformation was applied'''"
   ]
  },
  {
   "cell_type": "code",
   "execution_count": 15,
   "id": "022f92f7-0127-409d-a49d-e8e472c38e0c",
   "metadata": {},
   "outputs": [],
   "source": [
    "features=['engine_displacement','horsepower','vehicle_weight','model_year','fuel_efficiency_mpg']\n",
    "df_selected= df[features]"
   ]
  },
  {
   "cell_type": "code",
   "execution_count": 16,
   "id": "5c0415c6-da84-4280-bfcf-e20dfbb9d4f6",
   "metadata": {},
   "outputs": [
    {
     "data": {
      "text/plain": [
       "['horsepower']"
      ]
     },
     "execution_count": 16,
     "metadata": {},
     "output_type": "execute_result"
    }
   ],
   "source": [
    "nullable_columns = df_selected.isnull().sum() >= 1\n",
    "df_selected.columns[nullable_columns].to_list() "
   ]
  },
  {
   "cell_type": "code",
   "execution_count": 1,
   "id": "97e6daa0-6ef8-4940-9cb7-e5a854c0b0dd",
   "metadata": {},
   "outputs": [],
   "source": [
    "#Question 1\n",
    "#There's one column with missing values. What is it?\n",
    "\n",
    "#'engine_displacement'\n",
    "#'horsepower'\n",
    "#'vehicle_weight'\n",
    "#'model_year'\n",
    "'''horsepower'''"
   ]
  },
  {
   "cell_type": "code",
   "execution_count": 17,
   "id": "4a02bf34-53e2-4ec1-b552-6f40c5f89eeb",
   "metadata": {},
   "outputs": [
    {
     "data": {
      "text/plain": [
       "np.float64(149.0)"
      ]
     },
     "execution_count": 17,
     "metadata": {},
     "output_type": "execute_result"
    }
   ],
   "source": [
    "df_selected['horsepower'].median()"
   ]
  },
  {
   "cell_type": "code",
   "execution_count": null,
   "id": "f67b200f-d329-40b2-bb4d-8718e3e86754",
   "metadata": {},
   "outputs": [],
   "source": [
    "#What's the median (50% percentile) for variable 'horsepower'?\n",
    "#49\n",
    "#99\n",
    "#149\n",
    "#199\n",
    "'''149'''"
   ]
  },
  {
   "cell_type": "code",
   "execution_count": 21,
   "id": "143b7289-6ac5-4ed2-9088-3894cee8e195",
   "metadata": {},
   "outputs": [],
   "source": [
    "n=len(df_selected)"
   ]
  },
  {
   "cell_type": "code",
   "execution_count": 25,
   "id": "3c9feead-0ece-4826-93ec-b024e104a5e5",
   "metadata": {},
   "outputs": [],
   "source": [
    "# Setting the seed and creating the indices\n",
    "idx = np.arange(n)\n",
    "np.random.seed(42)\n",
    "np.random.shuffle(idx)"
   ]
  },
  {
   "cell_type": "code",
   "execution_count": 26,
   "id": "37992cd0-fa91-474a-9079-ab57f91a3216",
   "metadata": {},
   "outputs": [],
   "source": [
    "n_val = int(n * 0.2)\n",
    "n_test = int(n * 0.2)\n",
    "n_train = n - (n_val + n_test)"
   ]
  },
  {
   "cell_type": "code",
   "execution_count": 27,
   "id": "6ad593d1-2d5e-4d2a-846a-364062ea642c",
   "metadata": {},
   "outputs": [],
   "source": [
    "df_train = df_selected.iloc[idx[:n_train]].reset_index(drop=True)\n",
    "df_val = df_selected.iloc[idx[n_train:n_train + n_test]].reset_index(drop=True)\n",
    "df_test = df_selected.iloc[idx[n_train + n_test:]].reset_index(drop=True)"
   ]
  },
  {
   "cell_type": "code",
   "execution_count": 30,
   "id": "3e9662ac-7391-4474-b9fb-04913e2ee865",
   "metadata": {},
   "outputs": [],
   "source": [
    "# Setting the target variable vector\n",
    "y_train = df_train['fuel_efficiency_mpg'].values\n",
    "y_val = df_val['fuel_efficiency_mpg'].values\n",
    "y_test = df_test['fuel_efficiency_mpg'].values"
   ]
  },
  {
   "cell_type": "code",
   "execution_count": 31,
   "id": "795d142f-5950-4097-bf49-0f023222907e",
   "metadata": {},
   "outputs": [],
   "source": [
    "# Deleting the target variable from the train, validation and testing dataframes\n",
    "del df_train['fuel_efficiency_mpg'], df_val['fuel_efficiency_mpg'], df_test['fuel_efficiency_mpg']"
   ]
  },
  {
   "cell_type": "code",
   "execution_count": 32,
   "id": "5fb80af5-71dc-4e4c-8648-bcf54c3d948a",
   "metadata": {},
   "outputs": [],
   "source": [
    "#Linear Regression"
   ]
  },
  {
   "cell_type": "code",
   "execution_count": 42,
   "id": "fa4e86a7-0380-402d-a5bf-1e00292aaca9",
   "metadata": {},
   "outputs": [],
   "source": [
    "def prepare_X(df_lr, strategy):\n",
    "    if strategy not in ['zero', 'mean']:\n",
    "        raise ValueError(\"Strategy must be either 'zero' or 'mean'\")\n",
    "\n",
    "    df_lr = df_lr.copy()\n",
    "\n",
    "    if strategy == 'zero':\n",
    "        # Fill NaN values with 0\n",
    "        df_lr = df_lr.fillna(0)\n",
    "    elif strategy == 'mean':\n",
    "        # Fill NaN values with the mean of each numeric column\n",
    "        df_lr = df_lr.fillna(df_lr.mean(numeric_only=True))\n",
    "\n",
    "    X = df_lr.values\n",
    "    return X"
   ]
  },
  {
   "cell_type": "code",
   "execution_count": 43,
   "id": "00314f2e-c96e-43aa-bc62-09a837db0582",
   "metadata": {},
   "outputs": [],
   "source": [
    "def train_linear_regression(X, y):\n",
    "    ones_array = np.ones(len(X))\n",
    "    X = np.column_stack([ones_array, X])\n",
    "\n",
    "    XTX = X.T.dot(X)\n",
    "    XTX_inv = np.linalg.inv(XTX)\n",
    "\n",
    "    w_full = XTX_inv.dot(X.T).dot(y)\n",
    "    return w_full[0], w_full[1:]"
   ]
  },
  {
   "cell_type": "code",
   "execution_count": 44,
   "id": "c6f9eeab-9d0f-4e0f-bbda-00e4d96b025d",
   "metadata": {},
   "outputs": [],
   "source": [
    "# For computing the mean, use the training data only!\n",
    "def rmse(y, y_pred):\n",
    "    error = y - y_pred\n",
    "    se = error ** 2\n",
    "    mse = se.mean()\n",
    "    return np.sqrt(mse)"
   ]
  },
  {
   "cell_type": "code",
   "execution_count": 45,
   "id": "58d443c4-a591-4a16-9dc3-19261f17a5e0",
   "metadata": {},
   "outputs": [
    {
     "name": "stdout",
     "output_type": "stream",
     "text": [
      "Filling with zero: w0=26.16, w=[ 0.    0.   -0.01  0.  ]\n",
      "Filling with mean: w0=26.19, w=[ 0.    0.01 -0.01  0.  ]\n"
     ]
    }
   ],
   "source": [
    "# We need to deal with missing values for the column from Q1.\n",
    "# We have two options: fill it with 0 or with the mean of this variable.\n",
    "X_train_fill_zero = prepare_X(df_lr=df_train, strategy='zero')\n",
    "X_train_fill_mean = prepare_X(df_lr=df_train, strategy='mean')\n",
    "# Try both options. For each, train a linear regression model without regularization using the code from the lessons.\n",
    "w0_zero, w_full_zero = train_linear_regression(X=X_train_fill_zero, y=y_train)\n",
    "w0_mean, w_full_mean = train_linear_regression(X=X_train_fill_mean, y=y_train)\n",
    "print(f\"Filling with zero: w0={np.round(w0_zero, 2)}, w={np.round(w_full_zero, 2)}\")\n",
    "print(f\"Filling with mean: w0={np.round(w0_mean, 2)}, w={np.round(w_full_mean, 2)}\")\n",
    "# Use the validation dataset to evaluate the models and compare the RMSE of each option.\n",
    "X_val_zero = prepare_X(df_lr=df_val, strategy='zero')\n",
    "X_val_mean = prepare_X(df_lr=df_val, strategy='mean')\n",
    "score_fill_zero = rmse(y=y_val, y_pred=w0_zero + X_val_zero.dot(w_full_zero))\n",
    "score_fill_mean = rmse(y=y_val, y_pred=w0_mean + X_val_mean.dot(w_full_mean))"
   ]
  },
  {
   "cell_type": "code",
   "execution_count": 46,
   "id": "bbb1cde6-a421-4610-a659-f12fc4c6879c",
   "metadata": {},
   "outputs": [
    {
     "name": "stdout",
     "output_type": "stream",
     "text": [
      "score_fill_zero=np.float64(0.52)\n",
      "score_fill_mean=np.float64(0.47)\n"
     ]
    }
   ],
   "source": [
    "# Round the RMSE scores to 2 decimal digits using round(score, 2).\n",
    "score_fill_zero = np.round(score_fill_zero, 2)\n",
    "score_fill_mean = np.round(score_fill_mean, 2)\n",
    "\n",
    "print(f\"{score_fill_zero=}\") \n",
    "print(f\"{score_fill_mean=}\")"
   ]
  },
  {
   "cell_type": "code",
   "execution_count": null,
   "id": "35f6c132-9904-4918-9234-458636c24b00",
   "metadata": {},
   "outputs": [],
   "source": [
    "# Which option gives better RMSE?\n",
    "# - With 0\n",
    "# - With mean\n",
    "# - Both are equally good\n",
    "''' Filling with mean has a lower RMSE, hence it is better'''"
   ]
  },
  {
   "cell_type": "code",
   "execution_count": 48,
   "id": "6fc747ba-a5ee-47aa-8b71-248915b8482e",
   "metadata": {},
   "outputs": [],
   "source": [
    "def train_linear_regression_reg(X, y, r=0.001):\n",
    "    ones = np.ones(X.shape[0])\n",
    "    X = np.column_stack([ones, X])\n",
    "\n",
    "    XTX = X.T.dot(X)\n",
    "    XTX = XTX + r * np.eye(XTX.shape[0])\n",
    "\n",
    "    XTXI = np.linalg.inv(XTX)\n",
    "    w = XTXI.dot(X.T).dot(y)\n",
    "    return w[0], w[1:]"
   ]
  },
  {
   "cell_type": "code",
   "execution_count": 49,
   "id": "e6fb2d05-ee26-4115-873c-f54579a93ce3",
   "metadata": {},
   "outputs": [
    {
     "data": {
      "text/plain": [
       "{0: np.float64(0.52),\n",
       " 0.01: np.float64(0.52),\n",
       " 0.1: np.float64(0.53),\n",
       " 1: np.float64(0.53),\n",
       " 5: np.float64(0.53),\n",
       " 10: np.float64(0.53),\n",
       " 100: np.float64(0.53)}"
      ]
     },
     "execution_count": 49,
     "metadata": {},
     "output_type": "execute_result"
    }
   ],
   "source": [
    "X_train = prepare_X(df_lr=df_train, strategy='zero')\n",
    "X_val = prepare_X(df_lr=df_val, strategy='zero')\n",
    "# Try different values of r from this list: [0, 0.01, 0.1, 1, 5, 10, 100].\n",
    "r = [0, 0.01, 0.1, 1, 5, 10, 100]\n",
    "rmses = {}\n",
    "for alpha in r:\n",
    "    w0, w = train_linear_regression_reg(X=X_train, y=y_train, r=alpha)\n",
    "    rmses[alpha] = rmse(y=y_val, y_pred=w0 + X_val.dot(w))\n",
    "# Use RMSE to evaluate the model on the validation dataset.\n",
    "sorted_rmses = {key: np.round(value, 2) for key, value in sorted(rmses.items(), key=lambda item: item[1])}\n",
    "\n",
    "sorted_rmses  \n"
   ]
  },
  {
   "cell_type": "code",
   "execution_count": null,
   "id": "4343f449-2fde-4930-9a85-4a56cf7e0148",
   "metadata": {},
   "outputs": [],
   "source": [
    "# Which r gives the best RMSE?\n",
    "# - 0\n",
    "# - 0.01\n",
    "# - 1\n",
    "# - 10\n",
    "# - 100\n",
    "''' 1'''"
   ]
  },
  {
   "cell_type": "code",
   "execution_count": null,
   "id": "b40d9015-c134-45ff-aa05-e598d42acc9b",
   "metadata": {},
   "outputs": [],
   "source": [
    "# %% Question 5\n",
    "# We used seed 42 for splitting the data. Let's find out how selecting the seed influences our score.\n",
    "# Try different seed values: [0, 1, 2, 3, 4, 5, 6, 7, 8, 9]."
   ]
  },
  {
   "cell_type": "code",
   "execution_count": 51,
   "id": "f1d41304-a1a7-4ea0-b79e-322b740fad11",
   "metadata": {},
   "outputs": [
    {
     "name": "stdout",
     "output_type": "stream",
     "text": [
      "score_std_dev=np.float64(0.008)\n"
     ]
    }
   ],
   "source": [
    "seeds = [0, 1, 2, 3, 4, 5, 6, 7, 8, 9]\n",
    "scores = {}\n",
    "target_variable = 'fuel_efficiency_mpg'\n",
    "# For each seed, do the train/validation/test split with 60%/20%/20% distribution.\n",
    "for seed in seeds:\n",
    "    idx = np.arange(n)\n",
    "    np.random.seed(seed)\n",
    "    np.random.shuffle(idx)\n",
    "    # Use the same code as in the lectures.\n",
    "    n_val = int(n * 0.2)\n",
    "    n_test = int(n * 0.2)\n",
    "    n_train = n - (n_val + n_test)\n",
    "\n",
    "    # Setting the values via indices and resetting the index\n",
    "    df_train = df_selected.iloc[idx[:n_train]].reset_index(drop=True)\n",
    "    df_val = df_selected.iloc[idx[n_train:n_train + n_test]].reset_index(drop=True)\n",
    "    df_test = df_selected.iloc[idx[n_train + n_test:]].reset_index(drop=True)\n",
    "\n",
    "    # Setting the target variable vector\n",
    "    y_train = df_train[target_variable].values\n",
    "    y_val = df_val[target_variable].values\n",
    "    y_test = df_test[target_variable].values\n",
    "\n",
    "    # Deleting the target variable from the train, validation and testing dataframes\n",
    "    del df_train[target_variable], df_val[target_variable], df_test[target_variable]\n",
    "\n",
    "    # Fill the missing values with 0 and train a model without regularization.\n",
    "    X_train = prepare_X(df_lr=df_train, strategy='zero')\n",
    "    w0, w = train_linear_regression(X=X_train, y=y_train)\n",
    "\n",
    "    X_val = prepare_X(df_lr=df_val, strategy='zero')\n",
    "    y_pred = w0 + X_val.dot(w)\n",
    "    # For each seed, evaluate the model on the validation dataset and collect the RMSE scores.\n",
    "    score = rmse(y=y_val, y_pred=y_pred)\n",
    "    scores[seed] = score\n",
    "\n",
    "# What's the standard deviation of all the scores?\n",
    "# To compute the standard deviation, use np.std.\n",
    "score_values = [x for x in scores.values()]\n",
    "# Round the result to 3 decimal digits (round(std, 3)).\n",
    "score_std_dev = np.std(score_values).round(3)\n",
    "print(f\"{score_std_dev=}\") "
   ]
  },
  {
   "cell_type": "code",
   "execution_count": null,
   "id": "2510b1b8-f3e5-47eb-b93b-89ca723c7db0",
   "metadata": {},
   "outputs": [],
   "source": [
    "# What's the value of std?\n",
    "#0.001\n",
    "#0.006\n",
    "#0.060\n",
    "#0.600\n",
    "\n",
    "'''0.006'''"
   ]
  },
  {
   "cell_type": "code",
   "execution_count": 52,
   "id": "04cedf21-4058-4c05-b5ae-4b4b35460da6",
   "metadata": {},
   "outputs": [
    {
     "name": "stdout",
     "output_type": "stream",
     "text": [
      "test_rmse=np.float64(0.5287327513626651)\n"
     ]
    }
   ],
   "source": [
    "# %% Question 6\n",
    "# Split the dataset like previously, use seed 9.\n",
    "np.random.seed(9)\n",
    "# Combine train and validation datasets.\n",
    "df_full = pd.concat([df_train, df_val])\n",
    "y_full = np.concatenate([y_train, y_val])\n",
    "\n",
    "# Fill the missing values with 0 and train a model with r=0.001.\n",
    "X_full = prepare_X(df_lr=df_full, strategy='zero')\n",
    "w0, w = train_linear_regression_reg(X=X_full, y=y_full, r=0.001)\n",
    "\n",
    "X_test = prepare_X(df_lr=df_test, strategy='zero')\n",
    "\n",
    "test_rmse = rmse(y=y_test, y_pred=w0 + X_test.dot(w))\n",
    "print(f\"{test_rmse=}\")"
   ]
  },
  {
   "cell_type": "code",
   "execution_count": null,
   "id": "23b1d268-55b9-4093-a172-d3203d5d44d4",
   "metadata": {},
   "outputs": [],
   "source": [
    "# What's the RMSE on the test dataset?\n",
    "#0.15\n",
    "#0.515\n",
    "#5.15\n",
    "#51.5\n",
    "'''0.515'''"
   ]
  }
 ],
 "metadata": {
  "kernelspec": {
   "display_name": "Python 3 (ipykernel)",
   "language": "python",
   "name": "python3"
  },
  "language_info": {
   "codemirror_mode": {
    "name": "ipython",
    "version": 3
   },
   "file_extension": ".py",
   "mimetype": "text/x-python",
   "name": "python",
   "nbconvert_exporter": "python",
   "pygments_lexer": "ipython3",
   "version": "3.12.1"
  }
 },
 "nbformat": 4,
 "nbformat_minor": 5
}
